{
 "cells": [
  {
   "cell_type": "code",
   "execution_count": 11,
   "metadata": {},
   "outputs": [],
   "source": [
    "\"\"\"\n",
    "======================================\n",
    "Getting started programming with pyAFQ\n",
    "======================================\n",
    "\n",
    "There are two ways to :doc:`use pyAFQ </howto/getting_started>`: through the\n",
    "command line interface, and by writing Python code. This tutorial will walk you\n",
    "through the basics of the latter, using pyAFQ's Python Application Programming\n",
    "Interface (API).\n",
    "\n",
    "\"\"\"\n",
    "import os.path as op\n",
    "\n",
    "import matplotlib.pyplot as plt\n",
    "import nibabel as nib\n",
    "import plotly\n",
    "import pandas as pd\n",
    "\n",
    "from AFQ.api.group import GroupAFQ\n",
    "import AFQ.data.fetch as afd\n",
    "import AFQ.viz.altair as ava"
   ]
  },
  {
   "cell_type": "code",
   "execution_count": 12,
   "metadata": {},
   "outputs": [
    {
     "name": "stderr",
     "output_type": "stream",
     "text": [
      "INFO:AFQ:fetching Stanford HARDI data\n",
      "INFO:dipy.data.fetcher:Dataset is already in place. If you want to fetch it again please first remove the folder /Users/asagilmore/.dipy/stanford_hardi \n",
      "INFO:AFQ:Dataset is already in place. If you want to fetch it again please first remove the folder /Users/asagilmore/AFQ_data/stanford_hardi/derivatives\n",
      "INFO:AFQ:No seed mask given, using FA (or first scalar if none are FA)thresholded to 0.2\n",
      "INFO:AFQ:No stop mask given, using FA (or first scalar if none are FA)thresholded to 0.2\n"
     ]
    }
   ],
   "source": [
    "\n",
    "##########################################################################\n",
    "# Example data\n",
    "# ------------\n",
    "# pyAFQ assumes that the data is organized in a BIDS compliant directory.\n",
    "# To get users started with this tutorial, we will download some example\n",
    "# data and organize it in a BIDS compliant way (for more details on how\n",
    "# BIDS is used in pyAFQ, refer to :ref:`bids_tutorial`).\n",
    "#\n",
    "# The following call dowloads a dataset that contains a single subject's\n",
    "# high angular resolution diffusion imaging (HARDI) data, collected at the\n",
    "# Stanford Vista Lab\n",
    "#\n",
    "# .. note::\n",
    "#   See https://purl.stanford.edu/ng782rw8378 for details on dataset.\n",
    "#\n",
    "# The data are downloaded and organized locally into a BIDS compliant\n",
    "# anatomical data folder (``anat``) and a diffusion-weighted imaging data\n",
    "# (``dwi``) folder, which are both placed in the user's home directory under::\n",
    "#\n",
    "#   ``~/AFQ_data/stanford_hardi/``\n",
    "#\n",
    "# The data is also placed in a derivatives directory, signifying that it has\n",
    "# already undergone the required preprocessing necessary for pyAFQ to run.\n",
    "#\n",
    "# The clear_previous_afq is used to remove any previous runs of the afq object\n",
    "# stored in the `~/AFQ_data/stanford_hardi/` BIDS directory. Set it to None if\n",
    "# you want to use the results of previous runs.\n",
    "\n",
    "afd.organize_stanford_data(clear_previous_afq=\"track\")\n",
    "\n",
    "\n",
    "tracking_params = dict(n_seeds=50000,\n",
    "                       random_seeds=True,\n",
    "                       rng_seed=2022,\n",
    "                       trx=True,\n",
    "                       num_chunks=100)\n",
    "\n",
    "myafq = GroupAFQ(\n",
    "    bids_path=op.join(afd.afq_home, 'stanford_hardi'),\n",
    "    preproc_pipeline='vistasoft',\n",
    "    tracking_params=tracking_params,\n",
    "    viz_backend_spec='plotly_no_gif')\n"
   ]
  },
  {
   "cell_type": "code",
   "execution_count": null,
   "metadata": {},
   "outputs": [],
   "source": []
  },
  {
   "cell_type": "code",
   "execution_count": 13,
   "metadata": {},
   "outputs": [],
   "source": [
    "# .. note::\n",
    "#    Running the code below triggers the full pipeline of operations\n",
    "#    leading to the computation of the tract profiles. Therefore, it\n",
    "#    takes a little while to run (about 40 minutes, typically).\n",
    "\n",
    "myafq.export_up_to(\"streamlines\")\n",
    "\n",
    "# myafq.cmd_outputs(cmd=\"rm\",dependent_on=\"track\")\n",
    "\n",
    "import time\n",
    "\n",
    "start = time.time()\n",
    "myafq.export('streamlines')\n",
    "end = time.time()\n",
    "print(f\"Elapsed time: {end - start} seconds\")"
   ]
  },
  {
   "cell_type": "code",
   "execution_count": 5,
   "metadata": {},
   "outputs": [],
   "source": [
    "myafq.cmd_outputs(cmd=\"rm\",dependent_on=\"track\")"
   ]
  },
  {
   "cell_type": "code",
   "execution_count": null,
   "metadata": {},
   "outputs": [],
   "source": [
    "\n",
    "\n",
    "##########################################################################\n",
    "# Visualizing the bundles and calculating act profiles:\n",
    "# -----------------------------------------------------\n",
    "# The pyAFQ API provides several ways to visualize bundles and profiles.\n",
    "#\n",
    "# First, we will run a function that exports an html file that contains\n",
    "# an interactive visualization of the bundles that are segmented.\n",
    "#\n",
    "# .. note::\n",
    "#    By default we resample a 100 points within a bundle, however to reduce\n",
    "#    processing time we will only resample 50 points.\n",
    "#\n",
    "# Once it is done running, it should pop a browser window open and let you\n",
    "# interact with the bundles.\n",
    "#\n",
    "# .. note::\n",
    "#    You can hide or show a bundle by clicking the legend, or select a\n",
    "#    single bundle by double clicking the legend. The interactive\n",
    "#    visualization will also all you to pan, zoom, and rotate.\n",
    "\n",
    "bundle_html = myafq.export(\"all_bundles_figure\")\n",
    "plotly.io.show(bundle_html[\"01\"][0])\n",
    "\n",
    "##########################################################################\n",
    "# We can also visualize the tract profiles in all of the bundles. These\n",
    "# plots show both FA (left) and MD (right) layed out anatomically.\n",
    "# To make this plot, it is required that you install with\n",
    "# `pip install pyAFQ[plot]` so that you have the necessary dependencies.\n",
    "#\n",
    "\n",
    "fig_files = myafq.export(\"tract_profile_plots\")[\"01\"]\n",
    "\n",
    "##########################################################################\n",
    "# .. figure:: {{ fig_files[0] }}\n",
    "#\n",
    "\n",
    "\n",
    "##########################################################################\n",
    "# We can even use altair to visualize the tract profiles in all\n",
    "# of the bundles. We provide a more customizable interface for visualizing\n",
    "# the tract profiles using altair.\n",
    "# Again, to make this plot, it is required that you install with\n",
    "# `pip install pyAFQ[plot]` so that you have the necessary dependencies.\n",
    "#\n",
    "profiles_df = myafq.combine_profiles()\n",
    "altair_df = ava.combined_profiles_df_to_altair_df(profiles_df)\n",
    "altair_chart = ava.altair_df_to_chart(altair_df)\n",
    "altair_chart.display()\n",
    "\n",
    "\n",
    "##########################################################################\n",
    "# We can check the number of streamlines per bundle, to make sure\n",
    "# every bundle is found with a reasonable amount of streamlines.\n",
    "\n",
    "bundle_counts = pd.read_csv(myafq.export(\"sl_counts\")[\"01\"], index_col=[0])\n",
    "for ind in bundle_counts.index:\n",
    "    if ind == \"Total Recognized\":\n",
    "        threshold = 1000\n",
    "    else:\n",
    "        threshold = 10\n",
    "    if bundle_counts[\"n_streamlines\"][ind] < threshold:\n",
    "        raise ValueError((\n",
    "            \"Small number of streamlines found \"\n",
    "            f\"for bundle(s):\\n{bundle_counts}\"))"
   ]
  },
  {
   "cell_type": "code",
   "execution_count": null,
   "metadata": {},
   "outputs": [],
   "source": []
  },
  {
   "cell_type": "code",
   "execution_count": null,
   "metadata": {},
   "outputs": [
    {
     "ename": "AttributeError",
     "evalue": "module 'dipy.tracking.local_tracking' has no attribute 'ParaLocalTracking'",
     "output_type": "error",
     "traceback": [
      "\u001b[0;31m---------------------------------------------------------------------------\u001b[0m",
      "\u001b[0;31mAttributeError\u001b[0m                            Traceback (most recent call last)",
      "Cell \u001b[0;32mIn[13], line 1\u001b[0m\n\u001b[0;32m----> 1\u001b[0m test \u001b[38;5;241m=\u001b[39m \u001b[43mdpl\u001b[49m\u001b[38;5;241;43m.\u001b[39;49m\u001b[43mParaLocalTracking\u001b[49m\n",
      "\u001b[0;31mAttributeError\u001b[0m: module 'dipy.tracking.local_tracking' has no attribute 'ParaLocalTracking'"
     ]
    }
   ],
   "source": []
  }
 ],
 "metadata": {
  "kernelspec": {
   "display_name": "pyAFQ",
   "language": "python",
   "name": "python3"
  },
  "language_info": {
   "codemirror_mode": {
    "name": "ipython",
    "version": 3
   },
   "file_extension": ".py",
   "mimetype": "text/x-python",
   "name": "python",
   "nbconvert_exporter": "python",
   "pygments_lexer": "ipython3",
   "version": "3.11.9"
  }
 },
 "nbformat": 4,
 "nbformat_minor": 2
}
